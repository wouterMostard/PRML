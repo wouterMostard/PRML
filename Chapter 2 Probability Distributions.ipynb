{
 "cells": [
  {
   "cell_type": "code",
   "execution_count": 13,
   "metadata": {},
   "outputs": [],
   "source": [
    "import numpy as np\n",
    "import matplotlib.pyplot as plt"
   ]
  },
  {
   "cell_type": "markdown",
   "metadata": {},
   "source": [
    "# Probability distributions\n",
    "\n",
    "One of the prime reasons for using probability distributions is to model the distribution of a random variable when having finite data. this is called *density estimation*. The chapter focusses on 3 parametric methods and ends with aa short discussion of 3 non-parametric methods\n",
    "\n",
    "## Binary variable\n",
    "\n",
    "When there are two outcomes where the probability of occuring is $\\mu$ (and thus not occuring is $(1 - \\mu)$ can be modelled using a bernoulli distribution\n",
    "\n",
    "$$\n",
    "    Bern(x|\\mu) = \\mu^x (1 - \\mu)^{1 - x}\n",
    "$$\n",
    "\n",
    "And the mean an variance are given by\n",
    "\n",
    "$$\n",
    "    E[x] = 0 * (1 - \\mu) + 1 * (\\mu) = \\mu \\\\\n",
    "    Var[x] = E[x^2] - E[x]^2 = (0^ * (1 - \\mu) + 1^ * (\\mu)) + \\mu^2 = \\mu + \\mu^2 = \\mu * (1 - \\mu)\n",
    "$$\n",
    "\n",
    "The entropy calculates a measurement of disparity and is given by \n",
    "\n",
    "$$\n",
    "    H[x] = -\\sum_{i=1}^{N} p(x_i) \\; log(p(x_i)\n",
    "$$\n",
    "\n",
    "For the bernoulli distribution this is \n",
    "\n",
    "$$\n",
    "    H[x] = - \\mu \\; log(\\mu) - (1 - \\mu) \\; log(1 - \\mu)\n",
    "$$"
   ]
  },
  {
   "cell_type": "code",
   "execution_count": 6,
   "metadata": {},
   "outputs": [],
   "source": [
    "entropy_bernoulli = lambda mu : -(mu * np.log(mu)) - (1 - mu) * np.log(1 - mu)"
   ]
  },
  {
   "cell_type": "code",
   "execution_count": 23,
   "metadata": {},
   "outputs": [
    {
     "data": {
      "image/png": "[encoded data removed]",
      "text/plain": [
       "<Figure size 432x288 with 1 Axes>"
      ]
     },
     "metadata": {
      "needs_background": "light"
     },
     "output_type": "display_data"
    }
   ],
   "source": [
    "mus = np.linspace(0.01, 0.99, 100)\n",
    "plt.plot(mus, list(map(entropy_bernoulli, mus)))\n",
    "plt.xlabel(r'$\\mu$')\n",
    "plt.ylabel('entropy')\n",
    "plt.show()"
   ]
  },
  {
   "cell_type": "markdown",
   "metadata": {},
   "source": [
    "This indeed shows that when the probability of occuring is 50% the entropy is highest. An example random variable with the bernoulli distribution is given as follows"
   ]
  },
  {
   "cell_type": "code",
   "execution_count": 24,
   "metadata": {},
   "outputs": [],
   "source": [
    "from scipy import stats"
   ]
  },
  {
   "cell_type": "code",
   "execution_count": 36,
   "metadata": {},
   "outputs": [],
   "source": [
    "bernoulli = stats.bernoulli(0.25) # So we zet the parameter mean to 0.25\n",
    "\n",
    "sample = bernoulli.rvs(100)"
   ]
  },
  {
   "cell_type": "markdown",
   "metadata": {},
   "source": [
    "In the frequentist paradigm you can estimate this parameter $\\mu$ by taking the maximmum of the negative log likelihood of the data \n",
    "\n",
    "$$\n",
    "    p(D|\\mu) = \\prod_{i=0}^{N}p(x_i|\\mu) \\\\\n",
    "    \\sum_{i=0}^{N}p(x_i|\\mu) \\\\\n",
    "    \\frac{x}{\\mu} - \\frac{(1 - x)}{(1 - \\mu)} = 0\n",
    "$$"
   ]
  },
  {
   "cell_type": "code",
   "execution_count": null,
   "metadata": {},
   "outputs": [],
   "source": []
  }
 ],
 "metadata": {
  "kernelspec": {
   "display_name": "text-semantic-retrieval",
   "language": "python",
   "name": "text-semantic-retrieval"
  },
  "language_info": {
   "codemirror_mode": {
    "name": "ipython",
    "version": 3
   },
   "file_extension": ".py",
   "mimetype": "text/x-python",
   "name": "python",
   "nbconvert_exporter": "python",
   "pygments_lexer": "ipython3",
   "version": "3.7.6"
  }
 },
 "nbformat": 4,
 "nbformat_minor": 4
}
