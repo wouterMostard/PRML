{
 "cells": [
  {
   "cell_type": "markdown",
   "metadata": {},
   "source": [
    "# Sparse Kernel Machines"
   ]
  },
  {
   "cell_type": "code",
   "execution_count": 11,
   "metadata": {},
   "outputs": [],
   "source": [
    "from sklearn.datasets import make_classification\n",
    "import seaborn as sns\n",
    "import matplotlib.pyplot as plt"
   ]
  },
  {
   "cell_type": "code",
   "execution_count": 22,
   "metadata": {},
   "outputs": [
    {
     "data": {
      "image/png": "[encoded data removed]",
      "text/plain": [
       "<Figure size 432x288 with 1 Axes>"
      ]
     },
     "metadata": {
      "needs_background": "light"
     },
     "output_type": "display_data"
    }
   ],
   "source": [
    "data, labels = make_classification(n_samples=20, n_features=2, n_informative=2, n_redundant=0)\n",
    "\n",
    "for label in np.unique(labels):\n",
    "    subset = data[labels == label]\n",
    "    plt.scatter(subset[:,0], subset[:,1])"
   ]
  },
  {
   "cell_type": "markdown",
   "metadata": {},
   "source": [
    "# Maximum Margin Classifiers\n",
    "\n",
    "With the traditional method $y(x) = w \\phi(x) + b$ you find one decision boundary (for example with a perceptron). However, in the linearly seperable case you have inf many possible decision boundaries. With a maximum margin classifier you try to find the decision boundary which has the maximum distance from the nearest data point, i.e.\n",
    "\n",
    "$$\n",
    "    argmax_{w, b}\\frac{1}{||W||} min_{n}(t_n(W^T\\phi(x_n) + b)\n",
    "$$\n",
    "\n"
   ]
  },
  {
   "cell_type": "code",
   "execution_count": null,
   "metadata": {},
   "outputs": [],
   "source": []
  }
 ],
 "metadata": {
  "kernelspec": {
   "display_name": "text-semantic-retrieval",
   "language": "python",
   "name": "text-semantic-retrieval"
  },
  "language_info": {
   "codemirror_mode": {
    "name": "ipython",
    "version": 3
   },
   "file_extension": ".py",
   "mimetype": "text/x-python",
   "name": "python",
   "nbconvert_exporter": "python",
   "pygments_lexer": "ipython3",
   "version": "3.7.6"
  }
 },
 "nbformat": 4,
 "nbformat_minor": 4
}
