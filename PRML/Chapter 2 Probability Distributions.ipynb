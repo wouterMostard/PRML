{
 "cells": [
  {
   "cell_type": "code",
   "execution_count": 1,
   "metadata": {},
   "outputs": [],
   "source": [
    "import numpy as np\n",
    "import matplotlib.pyplot as plt"
   ]
  },
  {
   "cell_type": "markdown",
   "metadata": {},
   "source": [
    "# Probability distributions\n",
    "\n",
    "One of the prime reasons for using probability distributions is to model the distribution of a random variable when having finite data. this is called *density estimation*. The chapter focusses on 3 parametric methods and ends with aa short discussion of 3 non-parametric methods\n",
    "\n",
    "## Binary variable\n",
    "\n",
    "When there are two outcomes where the probability of occuring is $\\mu$ (and thus not occuring is $(1 - \\mu)$ can be modelled using a bernoulli distribution\n",
    "\n",
    "$$\n",
    "    Bern(x|\\mu) = \\mu^x (1 - \\mu)^{1 - x}\n",
    "$$\n",
    "\n",
    "And the mean an variance are given by\n",
    "\n",
    "$$\n",
    "    E[x] = 0 * (1 - \\mu) + 1 * (\\mu) = \\mu \\\\\n",
    "    Var[x] = E[x^2] - E[x]^2 = (0^ * (1 - \\mu) + 1^ * (\\mu)) + \\mu^2 = \\mu + \\mu^2 = \\mu * (1 - \\mu)\n",
    "$$\n",
    "\n",
    "The entropy calculates a measurement of disparity and is given by \n",
    "\n",
    "$$\n",
    "    H[x] = -\\sum_{i=1}^{N} p(x_i) \\; log(p(x_i)\n",
    "$$\n",
    "\n",
    "For the bernoulli distribution this is \n",
    "\n",
    "$$\n",
    "    H[x] = - \\mu \\; log(\\mu) - (1 - \\mu) \\; log(1 - \\mu)\n",
    "$$"
   ]
  },
  {
   "cell_type": "code",
   "execution_count": 2,
   "metadata": {},
   "outputs": [],
   "source": [
    "entropy_bernoulli = lambda mu : -(mu * np.log(mu)) - (1 - mu) * np.log(1 - mu)"
   ]
  },
  {
   "cell_type": "code",
   "execution_count": 3,
   "metadata": {},
   "outputs": [
    {
     "data": {
      "image/png": "[encoded data removed]",
      "text/plain": [
       "<Figure size 432x288 with 1 Axes>"
      ]
     },
     "metadata": {
      "needs_background": "light"
     },
     "output_type": "display_data"
    }
   ],
   "source": [
    "mus = np.linspace(0.01, 0.99, 100)\n",
    "plt.plot(mus, list(map(entropy_bernoulli, mus)))\n",
    "plt.xlabel(r'$\\mu$')\n",
    "plt.ylabel('entropy')\n",
    "plt.show()"
   ]
  },
  {
   "cell_type": "markdown",
   "metadata": {},
   "source": [
    "This indeed shows that when the probability of occuring is 50% the entropy is highest. An example random variable with the bernoulli distribution is given as follows"
   ]
  },
  {
   "cell_type": "code",
   "execution_count": 4,
   "metadata": {},
   "outputs": [],
   "source": [
    "from scipy import stats"
   ]
  },
  {
   "cell_type": "code",
   "execution_count": 5,
   "metadata": {},
   "outputs": [],
   "source": [
    "bernoulli = stats.bernoulli(0.25) # So we zet the parameter mean to 0.25\n",
    "\n",
    "sample = bernoulli.rvs(100)"
   ]
  },
  {
   "cell_type": "markdown",
   "metadata": {},
   "source": [
    "In the frequentist paradigm you can estimate this parameter $\\mu$ by taking the maximmum of the negative log likelihood of the data \n",
    "\n",
    "$$\n",
    "    p(D|\\mu) = \\prod_{i=0}^{N}p(x_i|\\mu) \\\\\n",
    "    \\sum_{n=1}^N x_n ln \\mu + (1 - x_n) ln (1 - \\mu) \\\\\n",
    "    \\text{Set the derivative wrt mu and set to zero} \\\\\n",
    "    \\sum_{n=1}^N \\frac{x}{\\mu} - \\frac{(1 - x)}{(1 - \\mu)} = 0 \\\\\n",
    "    \\mu_{ML} = \\frac{1}{N} \\sum_{n=1}^N x_n\n",
    "$$\n",
    "\n",
    "So the maximum likelihood of the probability of an effect occuring is the number of times it occured divided by the number of occurences"
   ]
  },
  {
   "cell_type": "code",
   "execution_count": 6,
   "metadata": {},
   "outputs": [
    {
     "data": {
      "image/png": "[encoded data removed]",
      "text/plain": [
       "<Figure size 432x288 with 1 Axes>"
      ]
     },
     "metadata": {
      "needs_background": "light"
     },
     "output_type": "display_data"
    }
   ],
   "source": [
    "loglikelihood = lambda x, mu: (x * np.log(mu)) + ((1 - x) * np.log(1 - mu))\n",
    "\n",
    "loglikelihoods = []\n",
    "\n",
    "for mu in np.linspace(0.01, 0.99, 20):\n",
    "    loglikelihoods.append(np.sum(list(map(loglikelihood, sample, np.ones(sample.size) * mu))))\n",
    "\n",
    "u_ml = (1 / sample.size) * sample.sum()\n",
    "\n",
    "plt.plot(np.linspace(0.01, 0.99, 20), loglikelihoods)\n",
    "plt.axvline(u_ml, c='r')\n",
    "plt.text(u_ml, -20, s=r'$\\mu_{ML}$')\n",
    "plt.xlabel(r'$\\mu$')\n",
    "plt.ylabel('log likelihood')\n",
    "plt.show()"
   ]
  },
  {
   "cell_type": "markdown",
   "metadata": {},
   "source": [
    "# Sequential modelling using Bernoulli distribution\n",
    "\n",
    "One disadvantage of using the maximum likelihood of a bernoulli is that you overfit like crazy when data is small. Another disadvantage is that you cannot update your beliefs about what the value of $\\mu$ should be. You can overcome this by picking a good prior for the Bernoulli distribution, which is the beta distribution\n",
    "\n",
    "$$\n",
    "    \\frac{\\Gamma(a + b)}{\\Gamma(a)\\Gamma(b)}\\mu^{a - 1}(1 - \\mu)^{b -1}\n",
    "$$\n",
    "\n",
    "Note that this has the same form as the bernoulli, except for the normalization constant in front. For calculating the posterior we need to multiply the likelihood (the bernoulli) with the prior which gives the prob of the parameters of that likelihood function (the beta function in this case). If you multiply the two distributions and normalize using the normalizing constant you get a new beta distribution looking as follows\n",
    "\n",
    "$$\n",
    "    p(\\mu| m, l, a, b) = \\frac{\\Gamma(m + a + l + b)}{\\Gamma(m + a)\\Gamma(l + b)}\\mu^{m + a - 1}(1 - \\mu)^{l + b -1}\n",
    "$$\n",
    "\n",
    "where we denote $l = N - m$, i.e. the number of times we have found tails. Note that finding the posterior this way requires us the only update a or b everytime and set that new distribution as our prior. Lets model this sequential process using some mock data where we start with a uniformative prior, namely $a = 2$ and $b = 2$. Lets say we have a coin and we are going to flip it 3 times and all the 3 times it threw head, i.e. $x_i=1$"
   ]
  },
  {
   "cell_type": "code",
   "execution_count": 17,
   "metadata": {},
   "outputs": [],
   "source": [
    "from scipy.stats import beta, bernoulli"
   ]
  },
  {
   "cell_type": "code",
   "execution_count": 147,
   "metadata": {},
   "outputs": [],
   "source": [
    "#X = np.array([1, 1, 1])\n",
    "X = np.random.uniform(0, 1, 20000)\n",
    "X = (X < 0.70).astype(np.uint8)"
   ]
  },
  {
   "cell_type": "code",
   "execution_count": 148,
   "metadata": {},
   "outputs": [
    {
     "name": "stdout",
     "output_type": "stream",
     "text": [
      "MLE for this trial is : 0.7064\n"
     ]
    }
   ],
   "source": [
    "# The maximum likelihood approach is picking the number of heads and dividing by the number of datapoints\n",
    "mu_mle = X.sum() / X.size\n",
    "\n",
    "print(f'MLE for this trial is : {mu_mle}')"
   ]
  },
  {
   "cell_type": "code",
   "execution_count": 149,
   "metadata": {},
   "outputs": [
    {
     "name": "stdout",
     "output_type": "stream",
     "text": [
      "Probability of throwing tails  = 0.29359999999999997\n"
     ]
    }
   ],
   "source": [
    "# New let's assume the next item is tails, \n",
    "x_new = 0\n",
    "\n",
    "print(f'Probability of throwing tails  = {bernoulli(p=mu_mle).pmf(0)}')"
   ]
  },
  {
   "cell_type": "code",
   "execution_count": 150,
   "metadata": {},
   "outputs": [],
   "source": [
    "# This is a serious case of overfitting, now lets try the sequential Bayes approach\n",
    "a = b = 2\n",
    "updates = []\n",
    "\n",
    "for x_i in X:\n",
    "    #updates.append(beta(a=a, b=b).pdf(np.linspace(0, 1, 100)))\n",
    "    \n",
    "    if x_i == 1: # See derivation above\n",
    "        a += 1\n",
    "    else:\n",
    "        b += 1"
   ]
  },
  {
   "cell_type": "code",
   "execution_count": 151,
   "metadata": {},
   "outputs": [
    {
     "data": {
      "text/plain": [
       "[]"
      ]
     },
     "execution_count": 151,
     "metadata": {},
     "output_type": "execute_result"
    },
    {
     "data": {
      "image/png": "[encoded data removed]",
      "text/plain": [
       "<Figure size 432x288 with 1 Axes>"
      ]
     },
     "metadata": {
      "needs_background": "light"
     },
     "output_type": "display_data"
    }
   ],
   "source": [
    "plt.hist(beta(a, b).rvs(10000), bins=100)\n",
    "plt.axvline(mu_mle, c='r')\n",
    "plt.xlim(0, 1)\n",
    "plt.plot()"
   ]
  },
  {
   "cell_type": "markdown",
   "metadata": {},
   "source": [
    "Note the X axis, this is very much centered around 0.70. This shows that given sufficient data the prediction\n",
    "of the bayesian method approaches the MLE method. This is very common"
   ]
  },
  {
   "cell_type": "code",
   "execution_count": null,
   "metadata": {},
   "outputs": [],
   "source": []
  }
 ],
 "metadata": {
  "kernelspec": {
   "display_name": "Python 3",
   "language": "python",
   "name": "python3"
  },
  "language_info": {
   "codemirror_mode": {
    "name": "ipython",
    "version": 3
   },
   "file_extension": ".py",
   "mimetype": "text/x-python",
   "name": "python",
   "nbconvert_exporter": "python",
   "pygments_lexer": "ipython3",
   "version": "3.7.3"
  }
 },
 "nbformat": 4,
 "nbformat_minor": 4
}
